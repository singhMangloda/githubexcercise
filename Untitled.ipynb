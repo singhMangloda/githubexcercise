{
 "cells": [
  {
   "cell_type": "markdown",
   "id": "b9237c33",
   "metadata": {},
   "source": [
    "# experimenting with anaconda"
   ]
  },
  {
   "cell_type": "code",
   "execution_count": 1,
   "id": "c89f1637",
   "metadata": {},
   "outputs": [
    {
     "name": "stderr",
     "output_type": "stream",
     "text": [
      "Matplotlib is building the font cache; this may take a moment.\n"
     ]
    }
   ],
   "source": [
    "import pandas as pd\n",
    "import numpy as np\n",
    "import seaborn as sns                       #visualisation\n",
    "import matplotlib.pyplot as plt             #visualisation\n",
    "%matplotlib inline     \n",
    "sns.set(color_codes=True)"
   ]
  },
  {
   "cell_type": "markdown",
   "id": "63e4b5e4",
   "metadata": {},
   "source": [
    "# create table_4 rows_3 column\n",
    "\n",
    "|column1|column2|column3|\n",
    "|-------|-------|-------|\n",
    "|-------|-------|-------|\n",
    "|-------|-------|-------|\n",
    "|-------|-------|-------|\n",
    "|-------|-------|-------|\n",
    "|cell|cell|\n"
   ]
  },
  {
   "cell_type": "code",
   "execution_count": 7,
   "id": "775118b2",
   "metadata": {},
   "outputs": [
    {
     "data": {
      "image/png": "[encoded data removed]",
      "text/plain": [
       "<Figure size 432x288 with 1 Axes>"
      ]
     },
     "metadata": {},
     "output_type": "display_data"
    }
   ],
   "source": [
    "a = [1, 2, 3, 4]\n",
    "b = [-1, -2, -3, -4]\n",
    "import matplotlib.pyplot as plt\n",
    "plt.plot(a,b)\n",
    "plt.show()"
   ]
  },
  {
   "cell_type": "code",
   "execution_count": 8,
   "id": "d4b49864",
   "metadata": {},
   "outputs": [
    {
     "ename": "NameError",
     "evalue": "name 'File' is not defined",
     "output_type": "error",
     "traceback": [
      "\u001b[1;31m---------------------------------------------------------------------------\u001b[0m",
      "\u001b[1;31mNameError\u001b[0m                                 Traceback (most recent call last)",
      "\u001b[1;32m<ipython-input-8-2d79c4306a46>\u001b[0m in \u001b[0;36m<module>\u001b[1;34m\u001b[0m\n\u001b[1;32m----> 1\u001b[1;33m \u001b[0mFile\u001b[0m\u001b[1;33m.\u001b[0m\u001b[0mopen\u001b[0m\u001b[1;33m(\u001b[0m\u001b[1;34m'IRuby Examples/ruby.png'\u001b[0m\u001b[1;33m)\u001b[0m\u001b[1;33m\u001b[0m\u001b[1;33m\u001b[0m\u001b[0m\n\u001b[0m",
      "\u001b[1;31mNameError\u001b[0m: name 'File' is not defined"
     ]
    }
   ],
   "source": [
    "File.open('IRuby Examples/ruby.png')"
   ]
  },
  {
   "cell_type": "code",
   "execution_count": null,
   "id": "69557d47",
   "metadata": {},
   "outputs": [],
   "source": []
  }
 ],
 "metadata": {
  "kernelspec": {
   "display_name": "Python 3",
   "language": "python",
   "name": "python3"
  },
  "language_info": {
   "codemirror_mode": {
    "name": "ipython",
    "version": 3
   },
   "file_extension": ".py",
   "mimetype": "text/x-python",
   "name": "python",
   "nbconvert_exporter": "python",
   "pygments_lexer": "ipython3",
   "version": "3.8.8"
  }
 },
 "nbformat": 4,
 "nbformat_minor": 5
}
